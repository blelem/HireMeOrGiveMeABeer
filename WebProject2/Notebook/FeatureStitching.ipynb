{
 "metadata": {
  "name": "",
  "signature": "sha256:e5d2788b0a1947856ea4b906d4d99b73fdd79bbfae3fe124b55422b85b4c09d2"
 },
 "nbformat": 3,
 "nbformat_minor": 0,
 "worksheets": [
  {
   "cells": [
    {
     "cell_type": "code",
     "collapsed": false,
     "input": [
      "%matplotlib inline\n",
      "%load_ext autoreload\n",
      "%autoreload 2\n",
      "import numpy as np\n",
      "import cv2\n",
      "import cv\n",
      "\n",
      "img1 = cv2.imread('..\\\\app\\\\static\\\\app\\\\testImages\\\\oslo_panorama_1.jpg',cv2.CV_LOAD_IMAGE_COLOR)\n",
      "img2 = cv2.imread('..\\\\app\\\\static\\\\app\\\\testImages\\\\oslo_panorama_2.jpg',cv2.CV_LOAD_IMAGE_COLOR)\n",
      "\n",
      "#img1 = cv2.imread('fit01.jpg',cv2.CV_LOAD_IMAGE_COLOR)\n",
      "#img2 = cv2.imread('fit02.jpg',cv2.CV_LOAD_IMAGE_COLOR)"
     ],
     "language": "python",
     "metadata": {},
     "outputs": [
      {
       "output_type": "stream",
       "stream": "stdout",
       "text": [
        "The autoreload extension is already loaded. To reload it, use:\n",
        "  %reload_ext autoreload\n"
       ]
      }
     ],
     "prompt_number": 15
    },
    {
     "cell_type": "code",
     "collapsed": false,
     "input": [
      "fd = cv2.FeatureDetector_create('SIFT')\n",
      "keypoints1 = fd.detect(img1)\n",
      "keypoints2 = fd.detect(img2)\n",
      "\n",
      "maxfeatures = 100;\n",
      "keypoints1 = sorted(keypoints1, key=lambda pts: pts.size,reverse=True)[0:maxfeatures]\n",
      "keypoints2 = sorted(keypoints2, key=lambda pts: pts.size,reverse=True)[0:maxfeatures]\n",
      "\n",
      "result = cv2.drawKeypoints(img1, keypoints1)\n",
      "cv.NamedWindow('Features1', cv.CV_WINDOW_NORMAL) \n",
      "cv2.imshow('Features1', result)\n",
      "\n",
      "result = cv2.drawKeypoints(img2, keypoints2)\n",
      "cv.NamedWindow('Features2', cv.CV_WINDOW_NORMAL) \n",
      "cv2.imshow('Features2', result)\n",
      "\n",
      "cv2.waitKey(0)\n",
      "cv2.destroyAllWindows()\n"
     ],
     "language": "python",
     "metadata": {},
     "outputs": [],
     "prompt_number": 17
    },
    {
     "cell_type": "code",
     "collapsed": false,
     "input": [
      "de = cv2.DescriptorExtractor_create('SIFT')\n",
      "(kp1, desc1) = de.compute(img1, keypoints1)\n",
      "(kp2, desc2) = de.compute(img2, keypoints2)\n",
      "\n",
      "dm = cv2.DescriptorMatcher_create('BruteForce')\n",
      "matches = dm.match(desc1, desc2)\n",
      "\n",
      "bestMatches = filter(lambda items: items.distance<100, matches)\n",
      "kp1Matches = [ kp1[idx] for idx in [x.queryIdx for x in bestMatches]]\n",
      "kp2Matches = [ kp2[idx] for idx in [x.trainIdx for x in bestMatches]]"
     ],
     "language": "python",
     "metadata": {},
     "outputs": [],
     "prompt_number": 18
    },
    {
     "cell_type": "code",
     "collapsed": false,
     "input": [
      "import sys\n",
      "sys.path.append( '..\\\\app\\\\')\n",
      "import Alignment2D \n",
      "#Transform = Alignment2D.LinearLeastSquare( kp1Matches, kp2Matches )\n",
      "Transform = Alignment2D.Levenberg (kp1Matches, kp2Matches)\n"
     ],
     "language": "python",
     "metadata": {},
     "outputs": [],
     "prompt_number": 21
    },
    {
     "cell_type": "code",
     "collapsed": false,
     "input": [
      "rows,cols,colours = img1.shape\n",
      "Canvas1 = np.zeros( ( rows*2, cols*2, colours) , img1.dtype );\n",
      "Canvas2 = np.copy(Canvas1)\n",
      "\n",
      "finalRows, finalCols, colours = Canvas1.shape\n",
      "M = np.float32([[1,0,0],[0,1,0]])\n",
      "\n",
      "img3 = cv2.drawKeypoints(img1, kp1Matches,color=(0,0,255) )\n",
      "cv2.imshow('aaa',img3)\n",
      "cv2.warpAffine(img3, M,(finalCols, finalRows), Canvas1)\n",
      "\n",
      "img2 = cv2.drawKeypoints(img2, kp2Matches,color=(255,0,0) )\n",
      "cv2.warpAffine(img2, Transform,(finalCols, finalRows), Canvas2, borderMode=cv2.BORDER_TRANSPARENT)\n",
      "\n",
      "alpha = 0.5\n",
      "beta = ( 1.0 - alpha )\n",
      "cv2.addWeighted( Canvas1, alpha, Canvas2, beta, 0.0, Canvas1)\n",
      "cv.NamedWindow('Features1', cv.CV_WINDOW_NORMAL) \n",
      "cv2.imshow('Features1', Canvas1)\n",
      "\n",
      "cv2.waitKey(0)\n",
      "cv2.destroyAllWindows()"
     ],
     "language": "python",
     "metadata": {},
     "outputs": [],
     "prompt_number": 23
    },
    {
     "cell_type": "code",
     "collapsed": false,
     "input": [
      "kp2MM = [ np.dot(Transform, numpy.hstack((kp.pt,1))) for kp in kp2Matches ]"
     ],
     "language": "python",
     "metadata": {},
     "outputs": [],
     "prompt_number": 14
    },
    {
     "cell_type": "code",
     "collapsed": false,
     "input": [
      "\n",
      "\n",
      "\n"
     ],
     "language": "python",
     "metadata": {},
     "outputs": [],
     "prompt_number": 13
    },
    {
     "cell_type": "code",
     "collapsed": false,
     "input": [
      "img1"
     ],
     "language": "python",
     "metadata": {},
     "outputs": [
      {
       "metadata": {},
       "output_type": "pyout",
       "prompt_number": 14,
       "text": [
        "array([[[ 52,  41,  49],\n",
        "        [ 58,  47,  55],\n",
        "        [ 57,  43,  54],\n",
        "        ..., \n",
        "        [191, 179, 169],\n",
        "        [189, 177, 167],\n",
        "        [191, 179, 169]],\n",
        "\n",
        "       [[ 48,  37,  45],\n",
        "        [ 52,  41,  49],\n",
        "        [ 57,  43,  54],\n",
        "        ..., \n",
        "        [192, 180, 170],\n",
        "        [191, 179, 169],\n",
        "        [193, 181, 171]],\n",
        "\n",
        "       [[ 45,  37,  44],\n",
        "        [ 44,  36,  43],\n",
        "        [ 55,  44,  54],\n",
        "        ..., \n",
        "        [192, 180, 170],\n",
        "        [192, 180, 170],\n",
        "        [194, 182, 172]],\n",
        "\n",
        "       ..., \n",
        "       [[  5,   0,   1],\n",
        "        [  6,   1,   2],\n",
        "        [  7,   2,   3],\n",
        "        ..., \n",
        "        [ 99,  63,  53],\n",
        "        [ 94,  58,  48],\n",
        "        [ 99,  63,  53]],\n",
        "\n",
        "       [[  5,   0,   1],\n",
        "        [  5,   0,   1],\n",
        "        [  6,   1,   2],\n",
        "        ..., \n",
        "        [ 94,  58,  48],\n",
        "        [ 91,  55,  45],\n",
        "        [ 92,  56,  46]],\n",
        "\n",
        "       [[  6,   1,   2],\n",
        "        [  5,   0,   1],\n",
        "        [  6,   1,   2],\n",
        "        ..., \n",
        "        [ 93,  57,  47],\n",
        "        [ 95,  59,  49],\n",
        "        [ 93,  57,  47]]], dtype=uint8)"
       ]
      }
     ],
     "prompt_number": 14
    },
    {
     "cell_type": "code",
     "collapsed": false,
     "input": [
      "'..\\app\\static\\app\\testImages\\oslo_panorama_1.jpg'"
     ],
     "language": "python",
     "metadata": {},
     "outputs": [
      {
       "metadata": {},
       "output_type": "pyout",
       "prompt_number": 12,
       "text": [
        "'..\\x07pp\\\\static\\x07pp\\testImages\\\\oslo_panorama_1.jpg'"
       ]
      }
     ],
     "prompt_number": 12
    },
    {
     "cell_type": "code",
     "collapsed": false,
     "input": [
      "img2"
     ],
     "language": "python",
     "metadata": {},
     "outputs": [
      {
       "metadata": {},
       "output_type": "pyout",
       "prompt_number": 16,
       "text": [
        "array([[[222, 215, 206],\n",
        "        [225, 218, 209],\n",
        "        [223, 217, 212],\n",
        "        ..., \n",
        "        [177, 166, 152],\n",
        "        [176, 165, 151],\n",
        "        [176, 165, 151]],\n",
        "\n",
        "       [[216, 209, 200],\n",
        "        [210, 202, 195],\n",
        "        [205, 199, 194],\n",
        "        ..., \n",
        "        [180, 169, 155],\n",
        "        [179, 168, 154],\n",
        "        [178, 167, 153]],\n",
        "\n",
        "       [[191, 183, 176],\n",
        "        [161, 153, 146],\n",
        "        [158, 152, 147],\n",
        "        ..., \n",
        "        [181, 170, 156],\n",
        "        [181, 170, 156],\n",
        "        [181, 170, 156]],\n",
        "\n",
        "       ..., \n",
        "       [[ 94,  55,  47],\n",
        "        [ 91,  52,  44],\n",
        "        [ 96,  57,  49],\n",
        "        ..., \n",
        "        [106,  71,  58],\n",
        "        [107,  72,  59],\n",
        "        [101,  66,  53]],\n",
        "\n",
        "       [[ 98,  59,  51],\n",
        "        [ 94,  55,  47],\n",
        "        [ 94,  55,  47],\n",
        "        ..., \n",
        "        [105,  70,  57],\n",
        "        [107,  72,  59],\n",
        "        [104,  69,  56]],\n",
        "\n",
        "       [[103,  64,  55],\n",
        "        [ 97,  58,  49],\n",
        "        [ 93,  54,  45],\n",
        "        ..., \n",
        "        [111,  73,  61],\n",
        "        [115,  77,  65],\n",
        "        [107,  69,  57]]], dtype=uint8)"
       ]
      }
     ],
     "prompt_number": 16
    },
    {
     "cell_type": "code",
     "collapsed": false,
     "input": [],
     "language": "python",
     "metadata": {},
     "outputs": []
    },
    {
     "cell_type": "code",
     "collapsed": false,
     "input": [],
     "language": "python",
     "metadata": {},
     "outputs": []
    },
    {
     "cell_type": "markdown",
     "metadata": {},
     "source": [
      "abc"
     ]
    }
   ],
   "metadata": {}
  }
 ]
}