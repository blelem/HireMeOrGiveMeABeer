{
 "metadata": {
  "name": "",
  "signature": "sha256:72514ffeafb825998abb608546a273e54bfa1fd3b773dd9da0b0dff08a8cc77a"
 },
 "nbformat": 3,
 "nbformat_minor": 0,
 "worksheets": [
  {
   "cells": [
    {
     "cell_type": "code",
     "collapsed": false,
     "input": [
      "%matplotlib inline\n",
      "%load_ext autoreload\n",
      "%autoreload 2\n",
      "import numpy as np\n",
      "import cv2\n",
      "import cv\n",
      "\n",
      "img1 = cv2.imread('..\\\\app\\\\static\\\\app\\\\testImages\\\\oslo_panorama_1.jpg',cv2.CV_LOAD_IMAGE_COLOR)\n",
      "img2 = cv2.imread('..\\\\app\\\\static\\\\app\\\\testImages\\\\oslo_panorama_2.jpg',cv2.CV_LOAD_IMAGE_COLOR)\n",
      "\n",
      "#img1 = cv2.imread('fit01.jpg',cv2.CV_LOAD_IMAGE_COLOR)\n",
      "#img2 = cv2.imread('fit02.jpg',cv2.CV_LOAD_IMAGE_COLOR)"
     ],
     "language": "python",
     "metadata": {},
     "outputs": [
      {
       "output_type": "stream",
       "stream": "stdout",
       "text": [
        "The autoreload extension is already loaded. To reload it, use:\n",
        "  %reload_ext autoreload\n"
       ]
      }
     ],
     "prompt_number": 15
    },
    {
     "cell_type": "code",
     "collapsed": false,
     "input": [
      "fd = cv2.FeatureDetector_create('SIFT')\n",
      "keypoints1 = fd.detect(img1)\n",
      "keypoints2 = fd.detect(img2)\n",
      "\n",
      "maxfeatures = 100;\n",
      "keypoints1 = sorted(keypoints1, key=lambda pts: pts.size,reverse=True)[0:maxfeatures]\n",
      "keypoints2 = sorted(keypoints2, key=lambda pts: pts.size,reverse=True)[0:maxfeatures]\n",
      "\n",
      "result = cv2.drawKeypoints(img1, keypoints1)\n",
      "cv.NamedWindow('Features1', cv.CV_WINDOW_NORMAL) \n",
      "cv2.imshow('Features1', result)\n",
      "\n",
      "result = cv2.drawKeypoints(img2, keypoints2)\n",
      "cv.NamedWindow('Features2', cv.CV_WINDOW_NORMAL) \n",
      "cv2.imshow('Features2', result)\n",
      "\n",
      "cv2.waitKey(0)\n",
      "cv2.destroyAllWindows()\n"
     ],
     "language": "python",
     "metadata": {},
     "outputs": [],
     "prompt_number": 17
    },
    {
     "cell_type": "code",
     "collapsed": false,
     "input": [
      "de = cv2.DescriptorExtractor_create('SIFT')\n",
      "(kp1, desc1) = de.compute(img1, keypoints1)\n",
      "(kp2, desc2) = de.compute(img2, keypoints2)\n",
      "\n",
      "dm = cv2.DescriptorMatcher_create('BruteForce')\n",
      "matches = dm.match(desc1, desc2)\n",
      "\n",
      "bestMatches = filter(lambda items: items.distance<100, matches)\n",
      "kp1Matches = [ kp1[idx] for idx in [x.queryIdx for x in bestMatches]]\n",
      "kp2Matches = [ kp2[idx] for idx in [x.trainIdx for x in bestMatches]]"
     ],
     "language": "python",
     "metadata": {},
     "outputs": [],
     "prompt_number": 18
    },
    {
     "cell_type": "code",
     "collapsed": false,
     "input": [
      "import sys\n",
      "sys.path.append( '..\\\\app\\\\')\n",
      "import Alignment2D \n",
      "#Transform = Alignment2D.LinearLeastSquare( kp1Matches, kp2Matches )\n",
      "Transform = Alignment2D.Levenberg (kp1Matches, kp2Matches)\n"
     ],
     "language": "python",
     "metadata": {},
     "outputs": [],
     "prompt_number": 21
    },
    {
     "cell_type": "code",
     "collapsed": false,
     "input": [
      "rows,cols,colours = img1.shape\n",
      "Canvas1 = np.zeros( ( rows*2, cols*2, colours) , img1.dtype );\n",
      "Canvas2 = np.copy(Canvas1)\n",
      "\n",
      "finalRows, finalCols, colours = Canvas1.shape\n",
      "M = np.float32([[1,0,0],[0,1,0]])\n",
      "\n",
      "img3 = cv2.drawKeypoints(img1, kp1Matches,color=(0,0,255) )\n",
      "cv2.imshow('aaa',img3)\n",
      "cv2.warpAffine(img3, M,(finalCols, finalRows), Canvas1)\n",
      "\n",
      "img2 = cv2.drawKeypoints(img2, kp2Matches,color=(255,0,0) )\n",
      "cv2.warpAffine(img2, Transform,(finalCols, finalRows), Canvas2, borderMode=cv2.BORDER_TRANSPARENT)\n",
      "\n",
      "alpha = 0.5\n",
      "beta = ( 1.0 - alpha )\n",
      "cv2.addWeighted( Canvas1, alpha, Canvas2, beta, 0.0, Canvas1)\n",
      "cv.NamedWindow('Features1', cv.CV_WINDOW_NORMAL) \n",
      "cv2.imshow('Features1', Canvas1)\n",
      "\n",
      "cv2.waitKey(0)\n",
      "cv2.destroyAllWindows()"
     ],
     "language": "python",
     "metadata": {},
     "outputs": [],
     "prompt_number": 23
    },
    {
     "cell_type": "code",
     "collapsed": false,
     "input": [
      "kp2MM = [ np.dot(Transform, numpy.hstack((kp.pt,1))) for kp in kp2Matches ]"
     ],
     "language": "python",
     "metadata": {},
     "outputs": [],
     "prompt_number": 14
    },
    {
     "cell_type": "code",
     "collapsed": false,
     "input": [
      "\n",
      "\n",
      "\n"
     ],
     "language": "python",
     "metadata": {},
     "outputs": [],
     "prompt_number": 13
    },
    {
     "cell_type": "code",
     "collapsed": false,
     "input": [],
     "language": "python",
     "metadata": {},
     "outputs": []
    }
   ],
   "metadata": {}
  }
 ]
}